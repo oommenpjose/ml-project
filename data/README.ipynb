{
 "cells": [
  {
   "cell_type": "markdown",
   "id": "bcbfe7a0-08a3-4f79-bf41-8564a5ca4177",
   "metadata": {},
   "source": [
    "This file will (hopefully) show how our spectra data is structured and how to use them to create colors for Pham & Kaltenegger (2022)."
   ]
  },
  {
   "cell_type": "code",
   "execution_count": 3,
   "id": "e2bf29cb-1333-42d4-a466-206881cc7cf7",
   "metadata": {},
   "outputs": [],
   "source": [
    "import pickle\n",
    "import numpy as np\n",
    "import pandas as pd\n",
    "import matplotlib.pyplot as plt"
   ]
  },
  {
   "cell_type": "markdown",
   "id": "9a901477-1568-49f7-9e6c-ab4531956487",
   "metadata": {},
   "source": [
    "## Load all possible combinations"
   ]
  },
  {
   "cell_type": "markdown",
   "id": "2f32cbeb-46fb-43c2-a6d3-04c8817fa53f",
   "metadata": {},
   "source": [
    "Note: we are creating (loading) a grid with resolution of 0.05, subjecting to the condition:\n",
    "\n",
    "$$ \\sum_{i=1}^{6} \\theta_i = 1; 0 \\leq \\theta_i \\leq 1 $$\n",
    "\n",
    "where $\\theta_i$ is each component's value (ranging between $[0,1]$) and there are $6$ components (6 representative components of modern Earth: cloud, snow, sand, sandwater, basalt, vegetation)."
   ]
  },
  {
   "cell_type": "code",
   "execution_count": 4,
   "id": "99a93810-5016-481b-8bcb-7f2168a92ea9",
   "metadata": {},
   "outputs": [],
   "source": [
    "# load all component combinations that sum to unity\n",
    "component_names, unity_surface_combinations = pickle.load(open(\"surface_combinations.pkl\", \"rb\"))"
   ]
  },
  {
   "cell_type": "code",
   "execution_count": 5,
   "id": "8e6e086c-10d8-46fc-a67c-c539aff8cb79",
   "metadata": {},
   "outputs": [],
   "source": [
    "unity_surface_combinations_df = pd.DataFrame(unity_surface_combinations, \n",
    "                                             columns=component_names)"
   ]
  },
  {
   "cell_type": "code",
   "execution_count": 6,
   "id": "e9c65d04-3474-4ede-aae0-dbd021ea5d9c",
   "metadata": {},
   "outputs": [
    {
     "data": {
      "text/html": [
       "<div>\n",
       "<style scoped>\n",
       "    .dataframe tbody tr th:only-of-type {\n",
       "        vertical-align: middle;\n",
       "    }\n",
       "\n",
       "    .dataframe tbody tr th {\n",
       "        vertical-align: top;\n",
       "    }\n",
       "\n",
       "    .dataframe thead th {\n",
       "        text-align: right;\n",
       "    }\n",
       "</style>\n",
       "<table border=\"1\" class=\"dataframe\">\n",
       "  <thead>\n",
       "    <tr style=\"text-align: right;\">\n",
       "      <th></th>\n",
       "      <th>cloud</th>\n",
       "      <th>snow</th>\n",
       "      <th>sand</th>\n",
       "      <th>seawater</th>\n",
       "      <th>basalt</th>\n",
       "      <th>veg</th>\n",
       "    </tr>\n",
       "  </thead>\n",
       "  <tbody>\n",
       "    <tr>\n",
       "      <th>0</th>\n",
       "      <td>0.00</td>\n",
       "      <td>0.00</td>\n",
       "      <td>0.00</td>\n",
       "      <td>0.00</td>\n",
       "      <td>0.00</td>\n",
       "      <td>1.00</td>\n",
       "    </tr>\n",
       "    <tr>\n",
       "      <th>1</th>\n",
       "      <td>0.00</td>\n",
       "      <td>0.00</td>\n",
       "      <td>0.00</td>\n",
       "      <td>0.00</td>\n",
       "      <td>0.05</td>\n",
       "      <td>0.95</td>\n",
       "    </tr>\n",
       "    <tr>\n",
       "      <th>2</th>\n",
       "      <td>0.00</td>\n",
       "      <td>0.00</td>\n",
       "      <td>0.00</td>\n",
       "      <td>0.00</td>\n",
       "      <td>0.10</td>\n",
       "      <td>0.90</td>\n",
       "    </tr>\n",
       "    <tr>\n",
       "      <th>3</th>\n",
       "      <td>0.00</td>\n",
       "      <td>0.00</td>\n",
       "      <td>0.00</td>\n",
       "      <td>0.00</td>\n",
       "      <td>0.15</td>\n",
       "      <td>0.85</td>\n",
       "    </tr>\n",
       "    <tr>\n",
       "      <th>4</th>\n",
       "      <td>0.00</td>\n",
       "      <td>0.00</td>\n",
       "      <td>0.00</td>\n",
       "      <td>0.00</td>\n",
       "      <td>0.20</td>\n",
       "      <td>0.80</td>\n",
       "    </tr>\n",
       "    <tr>\n",
       "      <th>...</th>\n",
       "      <td>...</td>\n",
       "      <td>...</td>\n",
       "      <td>...</td>\n",
       "      <td>...</td>\n",
       "      <td>...</td>\n",
       "      <td>...</td>\n",
       "    </tr>\n",
       "    <tr>\n",
       "      <th>53125</th>\n",
       "      <td>0.95</td>\n",
       "      <td>0.00</td>\n",
       "      <td>0.00</td>\n",
       "      <td>0.00</td>\n",
       "      <td>0.05</td>\n",
       "      <td>0.00</td>\n",
       "    </tr>\n",
       "    <tr>\n",
       "      <th>53126</th>\n",
       "      <td>0.95</td>\n",
       "      <td>0.00</td>\n",
       "      <td>0.00</td>\n",
       "      <td>0.05</td>\n",
       "      <td>0.00</td>\n",
       "      <td>0.00</td>\n",
       "    </tr>\n",
       "    <tr>\n",
       "      <th>53127</th>\n",
       "      <td>0.95</td>\n",
       "      <td>0.00</td>\n",
       "      <td>0.05</td>\n",
       "      <td>0.00</td>\n",
       "      <td>0.00</td>\n",
       "      <td>0.00</td>\n",
       "    </tr>\n",
       "    <tr>\n",
       "      <th>53128</th>\n",
       "      <td>0.95</td>\n",
       "      <td>0.05</td>\n",
       "      <td>0.00</td>\n",
       "      <td>0.00</td>\n",
       "      <td>0.00</td>\n",
       "      <td>0.00</td>\n",
       "    </tr>\n",
       "    <tr>\n",
       "      <th>53129</th>\n",
       "      <td>1.00</td>\n",
       "      <td>0.00</td>\n",
       "      <td>0.00</td>\n",
       "      <td>0.00</td>\n",
       "      <td>0.00</td>\n",
       "      <td>0.00</td>\n",
       "    </tr>\n",
       "  </tbody>\n",
       "</table>\n",
       "<p>53130 rows × 6 columns</p>\n",
       "</div>"
      ],
      "text/plain": [
       "       cloud  snow  sand  seawater  basalt   veg\n",
       "0       0.00  0.00  0.00      0.00    0.00  1.00\n",
       "1       0.00  0.00  0.00      0.00    0.05  0.95\n",
       "2       0.00  0.00  0.00      0.00    0.10  0.90\n",
       "3       0.00  0.00  0.00      0.00    0.15  0.85\n",
       "4       0.00  0.00  0.00      0.00    0.20  0.80\n",
       "...      ...   ...   ...       ...     ...   ...\n",
       "53125   0.95  0.00  0.00      0.00    0.05  0.00\n",
       "53126   0.95  0.00  0.00      0.05    0.00  0.00\n",
       "53127   0.95  0.00  0.05      0.00    0.00  0.00\n",
       "53128   0.95  0.05  0.00      0.00    0.00  0.00\n",
       "53129   1.00  0.00  0.00      0.00    0.00  0.00\n",
       "\n",
       "[53130 rows x 6 columns]"
      ]
     },
     "execution_count": 6,
     "metadata": {},
     "output_type": "execute_result"
    }
   ],
   "source": [
    "unity_surface_combinations_df"
   ]
  },
  {
   "cell_type": "markdown",
   "id": "c7b47a2d-0b7d-4579-8bd0-d78357590adf",
   "metadata": {},
   "source": [
    "## Load spectra"
   ]
  },
  {
   "cell_type": "code",
   "execution_count": 7,
   "id": "404d458a-2205-42a4-a0c6-0e7e71dbca44",
   "metadata": {},
   "outputs": [],
   "source": [
    "# unit is W/m^2/micron\n",
    "all_spectra = pickle.load(open(\"all_spectra.pkl\", \"rb\"))"
   ]
  },
  {
   "cell_type": "code",
   "execution_count": 8,
   "id": "245d6635-ee1c-4f41-b26c-1a00e2544469",
   "metadata": {},
   "outputs": [
    {
     "data": {
      "text/plain": [
       "(53130, 10000)"
      ]
     },
     "execution_count": 8,
     "metadata": {},
     "output_type": "execute_result"
    }
   ],
   "source": [
    "all_spectra.shape"
   ]
  },
  {
   "cell_type": "code",
   "execution_count": 9,
   "id": "0cd7441e-a2a5-46c4-9622-671bb610b697",
   "metadata": {},
   "outputs": [
    {
     "data": {
      "text/plain": [
       "(10000,)"
      ]
     },
     "execution_count": 9,
     "metadata": {},
     "output_type": "execute_result"
    }
   ],
   "source": [
    "# unit is micron\n",
    "wavelength = pickle.load(open(\"wavelength.pkl\", \"rb\"))\n",
    "wavelength.shape"
   ]
  },
  {
   "cell_type": "markdown",
   "id": "ce106f2a-c241-49a5-bf19-18b32b51ab26",
   "metadata": {},
   "source": [
    "Here, we can see that all_spectra has the shape of (combination, wavelength). Working with unity_surface_combinations_df, we can match the spectra and the surface combination. For example, let's get the spectra of an a surface with 25% cloud and 75% snow:"
   ]
  },
  {
   "cell_type": "code",
   "execution_count": 10,
   "id": "c70a0e69-c554-4cb2-b943-84c2ef509d02",
   "metadata": {},
   "outputs": [],
   "source": [
    "combination_idx = unity_surface_combinations_df.loc[(unity_surface_combinations_df[\"cloud\"] == 0.25) &\n",
    "                                                    (unity_surface_combinations_df[\"snow\"] == 0.75)].index[0]"
   ]
  },
  {
   "cell_type": "code",
   "execution_count": 11,
   "id": "3f362e68-ec49-4731-b3c0-9f5eca94014d",
   "metadata": {},
   "outputs": [
    {
     "data": {
      "image/png": "[encoded data removed]",
      "text/plain": [
       "<Figure size 640x480 with 1 Axes>"
      ]
     },
     "metadata": {},
     "output_type": "display_data"
    }
   ],
   "source": [
    "plt.plot(wavelength, all_spectra[combination_idx], 'k-')\n",
    "plt.xlabel(r\"Wavelength [$\\mu$m]\");\n",
    "plt.ylabel(r\"Reflective flux [W/m$^2$/$\\mu$m]\");"
   ]
  },
  {
   "cell_type": "markdown",
   "id": "f1344fe8-01c6-49d6-941a-e708969a7da9",
   "metadata": {},
   "source": [
    "## Make idealized filters"
   ]
  },
  {
   "cell_type": "code",
   "execution_count": 36,
   "id": "a7c60992-b569-4619-aa11-a928743a9251",
   "metadata": {},
   "outputs": [],
   "source": [
    "FILTER_SIZE = 0.08 # in micron\n",
    "FILTER_MIN  = 0.45 # starting wavelength\n",
    "FILTER_MAX  = 2.35 # final wavelength"
   ]
  },
  {
   "cell_type": "code",
   "execution_count": 37,
   "id": "07c8072f-cdc5-4085-9d67-6901b6997255",
   "metadata": {},
   "outputs": [],
   "source": [
    "# number of filters we can fit with this set up\n",
    "N_FILTERS = int(np.floor((FILTER_MAX - FILTER_MIN)/FILTER_SIZE))\n",
    "# some generic filter names (for plotting)\n",
    "filter_names = [f\"f{i}\" for i in range(N_FILTERS)]\n",
    "nice_filter_names = []\n",
    "for i, _ in enumerate(filter_names):\n",
    "    nice_filter_names.append(r\"$f_\" + str(i+1) + \"$\")"
   ]
  },
  {
   "cell_type": "code",
   "execution_count": 38,
   "id": "0c408cd3-fbed-4dca-85c0-452ad5631bb1",
   "metadata": {},
   "outputs": [],
   "source": [
    "def filter_func(initial, x, step=FILTER_SIZE):\n",
    "    \"\"\" An idealized filter, starting at some\n",
    "        initial wavelength, ending at initial + step,\n",
    "        for some step size.\n",
    "        \n",
    "        Parameters:\n",
    "            initial (float): the initial wavelength\n",
    "                where the filter starts.\n",
    "            x (array): all the wavelengths (just\n",
    "                pass the wavelength array here).\n",
    "            step (float, optional): the step size.\n",
    "        \n",
    "        Returns:\n",
    "            (array): filter response, same length as x.\n",
    "    \"\"\"\n",
    "    # create output array\n",
    "    output = np.zeros(len(x))\n",
    "    \n",
    "    # find where the filter is peaking\n",
    "    inrange = (x >= initial) & (x < initial + step)\n",
    "    \n",
    "    # set peak to 1, 0 elsewhere\n",
    "    output[inrange] = 1\n",
    "    output[~inrange] = 0\n",
    "    \n",
    "    return output"
   ]
  },
  {
   "cell_type": "code",
   "execution_count": 39,
   "id": "00e6695b-b749-419d-bfe0-814ddd576619",
   "metadata": {},
   "outputs": [
    {
     "ename": "TypeError",
     "evalue": "annotate() missing 1 required positional argument: 'text'",
     "output_type": "error",
     "traceback": [
      "\u001b[1;31m---------------------------------------------------------------------------\u001b[0m",
      "\u001b[1;31mTypeError\u001b[0m                                 Traceback (most recent call last)",
      "\u001b[1;32md:\\dev\\ml-project\\data\\README.ipynb Cell 19\u001b[0m in \u001b[0;36m1\n\u001b[0;32m      <a href='vscode-notebook-cell:/d%3A/dev/ml-project/data/README.ipynb#X24sZmlsZQ%3D%3D?line=6'>7</a>\u001b[0m \u001b[39mfor\u001b[39;00m i, filter_name \u001b[39min\u001b[39;00m \u001b[39menumerate\u001b[39m(nice_filter_names):\n\u001b[0;32m      <a href='vscode-notebook-cell:/d%3A/dev/ml-project/data/README.ipynb#X24sZmlsZQ%3D%3D?line=7'>8</a>\u001b[0m     plt\u001b[39m.\u001b[39mannotate(text\u001b[39m=\u001b[39mfilter_name, xy\u001b[39m=\u001b[39m(\u001b[39m0.52\u001b[39m \u001b[39m+\u001b[39m \u001b[39m0.2\u001b[39m\u001b[39m*\u001b[39mi, \u001b[39m0.8\u001b[39m), fontsize\u001b[39m=\u001b[39m\u001b[39m'\u001b[39m\u001b[39mx-large\u001b[39m\u001b[39m'\u001b[39m)\n\u001b[1;32m---> <a href='vscode-notebook-cell:/d%3A/dev/ml-project/data/README.ipynb#X24sZmlsZQ%3D%3D?line=9'>10</a>\u001b[0m plt\u001b[39m.\u001b[39;49mannotate(s\u001b[39m=\u001b[39;49m\u001b[39m'\u001b[39;49m\u001b[39m'\u001b[39;49m, xy\u001b[39m=\u001b[39;49m(\u001b[39m0.45\u001b[39;49m \u001b[39m+\u001b[39;49m \u001b[39m0.2\u001b[39;49m\u001b[39m*\u001b[39;49m\u001b[39m4\u001b[39;49m, \u001b[39m0.6\u001b[39;49m), xytext\u001b[39m=\u001b[39;49m(\u001b[39m0.45\u001b[39;49m \u001b[39m+\u001b[39;49m \u001b[39m0.2\u001b[39;49m\u001b[39m*\u001b[39;49m\u001b[39m5\u001b[39;49m,\u001b[39m0.6\u001b[39;49m), arrowprops\u001b[39m=\u001b[39;49m\u001b[39mdict\u001b[39;49m(arrowstyle\u001b[39m=\u001b[39;49m\u001b[39m'\u001b[39;49m\u001b[39m<->\u001b[39;49m\u001b[39m'\u001b[39;49m))\n\u001b[0;32m     <a href='vscode-notebook-cell:/d%3A/dev/ml-project/data/README.ipynb#X24sZmlsZQ%3D%3D?line=10'>11</a>\u001b[0m plt\u001b[39m.\u001b[39mannotate(\u001b[39m'\u001b[39m\u001b[39m0.2 \u001b[39m\u001b[39m\\n\u001b[39;00m\u001b[39m $\u001b[39m\u001b[39m\\\u001b[39m\u001b[39mmu$m\u001b[39m\u001b[39m'\u001b[39m,xy\u001b[39m=\u001b[39m(\u001b[39m1.3\u001b[39m, \u001b[39m0.45\u001b[39m))\n\u001b[0;32m     <a href='vscode-notebook-cell:/d%3A/dev/ml-project/data/README.ipynb#X24sZmlsZQ%3D%3D?line=11'>12</a>\u001b[0m plt\u001b[39m.\u001b[39mylim([\u001b[39m0\u001b[39m,\u001b[39m1.05\u001b[39m])\n",
      "\u001b[1;31mTypeError\u001b[0m: annotate() missing 1 required positional argument: 'text'"
     ]
    },
    {
     "data": {
      "image/png": "[encoded data removed]",
      "text/plain": [
       "<Figure size 640x480 with 1 Axes>"
      ]
     },
     "metadata": {},
     "output_type": "display_data"
    }
   ],
   "source": [
    "# plot the filters\n",
    "for i in range(N_FILTERS):\n",
    "    filter_pos = FILTER_MIN + FILTER_SIZE*i\n",
    "    filter_response = filter_func(filter_pos, wavelength, step=FILTER_SIZE)\n",
    "    plt.plot(wavelength, filter_response, c='k',)\n",
    "# annotate plot\n",
    "for i, filter_name in enumerate(nice_filter_names):\n",
    "    plt.annotate(text=filter_name, xy=(0.52 + 0.2*i, 0.8), fontsize='x-large')\n",
    "\n",
    "plt.annotate(s='', xy=(0.45 + 0.2*4, 0.6), xytext=(0.45 + 0.2*5,0.6), arrowprops=dict(arrowstyle='<->'))\n",
    "plt.annotate('0.2 \\n $\\mu$m',xy=(1.3, 0.45))\n",
    "plt.ylim([0,1.05])\n",
    "plt.xlim([0.4, 2.35])\n",
    "plt.xlabel(r'Wavelength [$\\mu$m]')\n",
    "plt.ylabel(r'Filter response');"
   ]
  },
  {
   "cell_type": "markdown",
   "id": "a5fc9d34-7176-46a7-a9d4-c45b227543b4",
   "metadata": {},
   "source": [
    "## Make colors from filters + spectra"
   ]
  },
  {
   "cell_type": "code",
   "execution_count": 33,
   "id": "f19b682a-84f5-4e96-a0bb-3427b2baa5aa",
   "metadata": {},
   "outputs": [],
   "source": [
    "colors = np.zeros((N_FILTERS, len(all_spectra)))\n",
    "\n",
    "for i in range(N_FILTERS):\n",
    "    filter_pos = FILTER_MIN + FILTER_SIZE*i\n",
    "    filter_response = filter_func(filter_pos, wavelength, step=FILTER_SIZE) * all_spectra\n",
    "    # can also np.quad to integrate, but trapz is plenty precise here (and faster!)\n",
    "    colors[i] = np.trapz(filter_response, x=wavelength, axis=1)"
   ]
  },
  {
   "cell_type": "code",
   "execution_count": 34,
   "id": "fe2286be-045d-49ae-b1e9-4adb57b22c3d",
   "metadata": {},
   "outputs": [],
   "source": [
    "colors = colors.transpose()"
   ]
  },
  {
   "cell_type": "code",
   "execution_count": 35,
   "id": "059263bf-807b-4541-acc8-c5d2cad00607",
   "metadata": {},
   "outputs": [
    {
     "data": {
      "text/plain": [
       "(53130, 19)"
      ]
     },
     "execution_count": 35,
     "metadata": {},
     "output_type": "execute_result"
    }
   ],
   "source": [
    "colors.shape"
   ]
  },
  {
   "cell_type": "code",
   "execution_count": 28,
   "id": "c287090d",
   "metadata": {},
   "outputs": [],
   "source": [
    "with open(\"colors.pkl\", \"wb\") as f:\n",
    "    pickle.dump(colors, f)"
   ]
  },
  {
   "cell_type": "code",
   "execution_count": null,
   "id": "af97b939",
   "metadata": {},
   "outputs": [
    {
     "data": {
      "text/plain": [
       "(10000,)"
      ]
     },
     "execution_count": 34,
     "metadata": {},
     "output_type": "execute_result"
    }
   ],
   "source": [
    "wavelength.shape"
   ]
  },
  {
   "cell_type": "markdown",
   "id": "8fbe6f13-99a9-4552-88c3-1e6698f6446d",
   "metadata": {},
   "source": [
    "Here, colors is in the dimension of (combination, filters). We can match the color with combination from unity_surface_combinations_df, similar to how we did it before with spectra. We can also save this colors array to use as the dataset for machine learning."
   ]
  }
 ],
 "metadata": {
  "kernelspec": {
   "display_name": "Python 3",
   "language": "python",
   "name": "python3"
  },
  "language_info": {
   "codemirror_mode": {
    "name": "ipython",
    "version": 3
   },
   "file_extension": ".py",
   "mimetype": "text/x-python",
   "name": "python",
   "nbconvert_exporter": "python",
   "pygments_lexer": "ipython3",
   "version": "3.10.8"
  }
 },
 "nbformat": 4,
 "nbformat_minor": 5
}
