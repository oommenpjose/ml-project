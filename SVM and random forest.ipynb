{
 "cells": [
  {
   "cell_type": "code",
   "execution_count": 16,
   "metadata": {},
   "outputs": [],
   "source": [
    "from sklearn.svm import SVR\n",
    "from sklearn.ensemble import RandomForestRegressor\n",
    "from sklearn.multioutput import MultiOutputRegressor\n",
    "from sklearn.metrics import mean_squared_error\n",
    "from joblib import dump, load\n",
    "import numpy as np\n",
    "import pickle\n",
    "import random"
   ]
  },
  {
   "attachments": {},
   "cell_type": "markdown",
   "metadata": {},
   "source": [
    "# Splitting data to train and test data"
   ]
  },
  {
   "cell_type": "code",
   "execution_count": 17,
   "metadata": {},
   "outputs": [],
   "source": [
    "# Load the features from the pickle file\n",
    "with open(\"data/colors.pkl\", \"rb\") as f:\n",
    "    features = pickle.load(f)\n",
    "\n",
    "# Load the labels from the pickle file\n",
    "with open(\"data/surface_combinations.pkl\", \"rb\") as f:\n",
    "    labels = pickle.load(f)\n",
    "\n",
    "# Combine the features and labels into a list of tuples\n",
    "data = list(zip(features, labels[1]))\n",
    "\n",
    "# Shuffle the data randomly\n",
    "random.shuffle(data)\n",
    "\n",
    "# Calculate the split index for the training/test split\n",
    "split_idx = int(len(data) * 0.8)\n",
    "\n",
    "# Split the data into training and test sets\n",
    "train_data = data[:split_idx]\n",
    "test_data = data[split_idx:]\n",
    "\n",
    "# Save the training and test data to pickle files\n",
    "with open(\"train_data.pkl\", \"wb\") as f:\n",
    "    pickle.dump(train_data, f)\n",
    "\n",
    "with open(\"test_data.pkl\", \"wb\") as f:\n",
    "    pickle.dump(test_data, f)"
   ]
  },
  {
   "attachments": {},
   "cell_type": "markdown",
   "metadata": {},
   "source": [
    "# Adding noise to test data"
   ]
  },
  {
   "cell_type": "code",
   "execution_count": null,
   "metadata": {},
   "outputs": [],
   "source": [
    "def add_noise(reflection_spectrum, sn_ratio):\n",
    "    # Calculate the standard deviation of the noise\n",
    "    noise_std = np.max(reflection_spectrum) / sn_ratio\n",
    "    \n",
    "    # Add 1000 realizations of Gaussian noise to the spectrum\n",
    "    noisy_spectra = []\n",
    "    for i in range(1000):\n",
    "        noise = np.random.normal(0, noise_std, size=len(reflection_spectrum))\n",
    "        noisy_spectrum = reflection_spectrum + noise\n",
    "        noisy_spectra.append(noisy_spectrum)\n",
    "    \n",
    "    return np.array(noisy_spectra)\n",
    "# Load the test data from pickle file\n",
    "with open(\"test_data.pkl\", \"rb\") as f:\n",
    "    test_data = pickle.load(f)\n",
    "noisy_data=[]\n",
    "for i in test_data:\n",
    "    noisy_data.append(add_noise(i, 100))"
   ]
  },
  {
   "attachments": {},
   "cell_type": "markdown",
   "metadata": {},
   "source": [
    "# Creating the svr model and training it"
   ]
  },
  {
   "cell_type": "code",
   "execution_count": 18,
   "metadata": {},
   "outputs": [
    {
     "data": {
      "text/plain": [
       "['svr.pkl']"
      ]
     },
     "execution_count": 18,
     "metadata": {},
     "output_type": "execute_result"
    }
   ],
   "source": [
    "# Load the training data from pickle file\n",
    "with open(\"train_data.pkl\", \"rb\") as f:\n",
    "    train_data = pickle.load(f)\n",
    "\n",
    "# Load the test data from pickle file\n",
    "with open(\"test_data.pkl\", \"rb\") as f:\n",
    "    test_data = pickle.load(f)\n",
    "\n",
    "# Separate the features and labels in the training data\n",
    "train_X = [sample[0] for sample in train_data]\n",
    "train_y = [sample[1] for sample in train_data]\n",
    "\n",
    "# Separate the features and labels in the test data\n",
    "test_X = [sample[0] for sample in test_data]\n",
    "test_y = [sample[1] for sample in test_data]\n",
    "\n",
    "# Create a support vector regression model\n",
    "svr = SVR(kernel='linear')\n",
    "\n",
    "# Create a multi-output regression model with the SVM model as the base estimator\n",
    "model = MultiOutputRegressor(svr)\n",
    "\n",
    "# Fit the model to the training data\n",
    "model.fit(train_X, train_y)\n",
    "\n",
    "# Save the trained model to a file\n",
    "dump(model, \"svr.pkl\")"
   ]
  },
  {
   "cell_type": "code",
   "execution_count": 19,
   "metadata": {},
   "outputs": [
    {
     "name": "stdout",
     "output_type": "stream",
     "text": [
      "Mean squared error: 0.0021849375024701064\n",
      "[0.05036735 0.07909906 0.19010251 0.01128337 0.2400041  0.39120331]\n",
      "[0.1  0.1  0.15 0.05 0.2  0.4 ]\n",
      "[91.9912815  58.46584402 57.1620384  42.92042146 32.14356784 20.49502311\n",
      " 17.80745864  4.20938587  6.7762294   7.51020645  4.74588998  0.55598314\n",
      "  1.27302808  2.15371201  1.64942245]\n"
     ]
    }
   ],
   "source": [
    "# Load the test data from pickle file\n",
    "with open(\"test_data.pkl\", \"rb\") as f:\n",
    "    test_data = pickle.load(f)\n",
    "    \n",
    "# Separate the features and labels in the test data\n",
    "test_X = [sample[0] for sample in test_data]\n",
    "test_y = [sample[1] for sample in test_data]\n",
    "\n",
    "# Load the saved model from file\n",
    "load_model = load(\"svr.pkl\")\n",
    "# Use the trained model to predict the labels for the test data\n",
    "pred_y = load_model.predict(test_X)\n",
    "\n",
    "# Calculate the mean squared error between the predicted and actual labels\n",
    "mse = mean_squared_error(test_y, pred_y)\n",
    "\n",
    "print(\"Mean squared error:\", mse)\n",
    "print(pred_y[2])\n",
    "print(test_y[2])\n",
    "print(test_X[2])\n"
   ]
  },
  {
   "attachments": {},
   "cell_type": "markdown",
   "metadata": {},
   "source": [
    "# Creating random forest model and saving it"
   ]
  },
  {
   "cell_type": "code",
   "execution_count": 20,
   "metadata": {},
   "outputs": [
    {
     "data": {
      "text/plain": [
       "['rfr.pkl']"
      ]
     },
     "execution_count": 20,
     "metadata": {},
     "output_type": "execute_result"
    }
   ],
   "source": [
    "# Load the training data from pickle file\n",
    "with open(\"train_data.pkl\", \"rb\") as f:\n",
    "    train_data = pickle.load(f)\n",
    "\n",
    "# Load the test data from pickle file\n",
    "with open(\"test_data.pkl\", \"rb\") as f:\n",
    "    test_data = pickle.load(f)\n",
    "\n",
    "# Separate the features and labels in the training data\n",
    "train_X = [sample[0] for sample in train_data]\n",
    "train_y = [sample[1] for sample in train_data]\n",
    "\n",
    "# Separate the features and labels in the test data\n",
    "test_X = [sample[0] for sample in test_data]\n",
    "test_y = [sample[1] for sample in test_data]\n",
    "\n",
    "# Train the random forest regression model\n",
    "rfr = RandomForestRegressor(n_estimators=100)\n",
    "rfr.fit(train_X, train_y)\n",
    "\n",
    "# Save the trained model to a file\n",
    "dump(rfr, \"rfr.pkl\")"
   ]
  },
  {
   "cell_type": "code",
   "execution_count": 21,
   "metadata": {},
   "outputs": [
    {
     "name": "stdout",
     "output_type": "stream",
     "text": [
      "Mean squared error: 0.0025535449996862917\n",
      "[0.104  0.3305 0.0665 0.2295 0.2415 0.028 ]\n",
      "[0.1  0.35 0.05 0.15 0.35 0.  ]\n"
     ]
    }
   ],
   "source": [
    "# Load the test data from pickle file\n",
    "with open(\"test_data.pkl\", \"rb\") as f:\n",
    "    test_data = pickle.load(f)\n",
    "\n",
    "# Separate the features and labels in the test data\n",
    "\n",
    "test_X = [sample[0] for sample in test_data]\n",
    "test_y = [sample[1] for sample in test_data]\n",
    "# Load the saved model from file\n",
    "load_model = load(\"rfr.pkl\")\n",
    "\n",
    "# Use the trained model to predict the labels for the test data\n",
    "pred_y = load_model.predict(test_X)\n",
    "\n",
    "# Calculate the mean squared error between the predicted and actual labels\n",
    "mse = mean_squared_error(test_y, pred_y)\n",
    "\n",
    "print(\"Mean squared error:\", mse)\n",
    "print(pred_y[1])\n",
    "print(test_y[1])"
   ]
  },
  {
   "cell_type": "code",
   "execution_count": 14,
   "metadata": {},
   "outputs": [
    {
     "name": "stdout",
     "output_type": "stream",
     "text": [
      "[103.85266888  66.03370585  42.46557837  25.23370438  10.55935248\n",
      "   8.9950382    5.95906706   1.01688935   2.45498614]\n"
     ]
    }
   ],
   "source": [
    "print(test_X[1])"
   ]
  }
 ],
 "metadata": {
  "kernelspec": {
   "display_name": "Python 3",
   "language": "python",
   "name": "python3"
  },
  "language_info": {
   "codemirror_mode": {
    "name": "ipython",
    "version": 3
   },
   "file_extension": ".py",
   "mimetype": "text/x-python",
   "name": "python",
   "nbconvert_exporter": "python",
   "pygments_lexer": "ipython3",
   "version": "3.10.8"
  },
  "orig_nbformat": 4
 },
 "nbformat": 4,
 "nbformat_minor": 2
}
